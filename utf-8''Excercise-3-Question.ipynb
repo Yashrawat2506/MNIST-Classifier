{
 "cells": [
  {
   "cell_type": "markdown",
   "metadata": {
    "colab_type": "text",
    "id": "iQjHqsmTAVLU"
   },
   "source": [
    "## Exercise 3\n",
    "In the videos you looked at how you would improve Fashion MNIST using Convolutions. For your exercise see if you can improve MNIST to 99.8% accuracy or more using only a single convolutional layer and a single MaxPooling 2D. You should stop training once the accuracy goes above this amount. It should happen in less than 20 epochs, so it's ok to hard code the number of epochs for training, but your training must end once it hits the above metric. If it doesn't, then you'll need to redesign your layers.\n",
    "\n",
    "I've started the code for you -- you need to finish it!\n",
    "\n",
    "When 99.8% accuracy has been hit, you should print out the string \"Reached 99.8% accuracy so cancelling training!\"\n"
   ]
  },
  {
   "cell_type": "code",
   "execution_count": 1,
   "metadata": {},
   "outputs": [],
   "source": [
    "#importing tensorflow \n",
    "import tensorflow as tf\n",
    "from os import path, getcwd, chdir\n",
    "\n",
    "path = f\"{getcwd()}/../tmp2/mnist.npz\""
   ]
  },
  {
   "cell_type": "code",
   "execution_count": 2,
   "metadata": {},
   "outputs": [],
   "source": [
    "config = tf.ConfigProto()\n",
    "config.gpu_options.allow_growth = True\n",
    "sess = tf.Session(config=config)"
   ]
  },
  {
   "cell_type": "code",
   "execution_count": 7,
   "metadata": {},
   "outputs": [],
   "source": [
    "def train_mnist_conv():\n",
    "    \n",
    "    #defing the class for callback initialisation\n",
    "    class callback(tf.keras.callbacks.Callback):\n",
    "        def xx(self,epoch,logs={}):\n",
    "            if logs.get('acc')> 0.98:\n",
    "                print('Reached 99.8% accuracy so cancelling training')\n",
    "                tf.keras.stop_training = True\n",
    "    \n",
    "    \n",
    "    mnist = tf.keras.datasets.mnist\n",
    "    \n",
    "    (training_images, training_labels), (test_images, test_labels) = mnist.load_data(path=path)\n",
    "   \n",
    "    training_images=training_images.reshape(60000, 28, 28, 1)    #reshaping the traiaing set\n",
    "    training_images=training_images/255.0                        #normalising the training\n",
    "    #test_images=test_images.reshape(60000, 28, 28, 1)    #reshaping the test data\n",
    "    test_images=test_images/255.0                                #normalising the test images \n",
    "    \n",
    "    #Creating an object for the class\n",
    "    obj = callback()     \n",
    "    \n",
    "    #Building model\n",
    "    model = tf.keras.models.Sequential([tf.keras.layers.Conv2D(64,(3,3),activation= 'relu',input_shape=(28,28,1)),tf.keras.layers.MaxPooling2D(2,2),tf.keras.layers.Flatten(),tf.keras.layers.Dense(512,activation = 'relu'),tf.keras.layers.Dense(10,activation = 'softmax')])\n",
    "    \n",
    "    #Compilig the model\n",
    "    model.compile(optimizer='adam', loss='sparse_categorical_crossentropy', metrics=['acc'])\n",
    "    \n",
    "    # model fitting\n",
    "    history = model.fit(training_images,training_labels,epochs= 10,callbacks = [obj])\n",
    "       \n",
    "    \n",
    "    return history.epoch, history.history['acc'][-1]\n",
    "\n"
   ]
  },
  {
   "cell_type": "code",
   "execution_count": 8,
   "metadata": {},
   "outputs": [
    {
     "name": "stderr",
     "output_type": "stream",
     "text": [
      "WARNING: Logging before flag parsing goes to stderr.\n",
      "W0517 03:10:43.638307 139928696579904 deprecation.py:506] From /usr/local/lib/python3.6/dist-packages/tensorflow/python/ops/init_ops.py:1251: calling VarianceScaling.__init__ (from tensorflow.python.ops.init_ops) with dtype is deprecated and will be removed in a future version.\n",
      "Instructions for updating:\n",
      "Call initializer instance with the dtype argument instead of passing it to the constructor\n"
     ]
    },
    {
     "name": "stdout",
     "output_type": "stream",
     "text": [
      "Epoch 1/10\n",
      "60000/60000 [==============================] - 22s 363us/sample - loss: 0.1181 - acc: 0.9639\n",
      "Epoch 2/10\n",
      "60000/60000 [==============================] - 18s 305us/sample - loss: 0.0392 - acc: 0.9879\n",
      "Epoch 3/10\n",
      "60000/60000 [==============================] - 19s 321us/sample - loss: 0.0215 - acc: 0.9933\n",
      "Epoch 4/10\n",
      "60000/60000 [==============================] - 19s 315us/sample - loss: 0.0137 - acc: 0.9955\n",
      "Epoch 5/10\n",
      "60000/60000 [==============================] - 19s 318us/sample - loss: 0.0100 - acc: 0.9965\n",
      "Epoch 6/10\n",
      "60000/60000 [==============================] - 18s 294us/sample - loss: 0.0068 - acc: 0.9978\n",
      "Epoch 7/10\n",
      "60000/60000 [==============================] - 17s 286us/sample - loss: 0.0062 - acc: 0.9978\n",
      "Epoch 8/10\n",
      "60000/60000 [==============================] - 18s 297us/sample - loss: 0.0057 - acc: 0.9980\n",
      "Epoch 9/10\n",
      "60000/60000 [==============================] - 18s 298us/sample - loss: 0.0044 - acc: 0.9985\n",
      "Epoch 10/10\n",
      "60000/60000 [==============================] - 17s 285us/sample - loss: 0.0042 - acc: 0.9987\n"
     ]
    },
    {
     "data": {
      "text/plain": [
       "([0, 1, 2, 3, 4, 5, 6, 7, 8, 9], 0.99868333)"
      ]
     },
     "execution_count": 8,
     "metadata": {},
     "output_type": "execute_result"
    }
   ],
   "source": [
    "#Running the function\n",
    "train_mnist_conv()"
   ]
  },
  {
   "cell_type": "code",
   "execution_count": null,
   "metadata": {},
   "outputs": [],
   "source": [
    "#Saving the notebook"
   ]
  },
  {
   "cell_type": "code",
   "execution_count": null,
   "metadata": {},
   "outputs": [],
   "source": [
    "%%javascript\n",
    "<!-- Save the notebook -->\n",
    "IPython.notebook.save_checkpoint();"
   ]
  },
  {
   "cell_type": "code",
   "execution_count": null,
   "metadata": {},
   "outputs": [],
   "source": [
    "%%javascript\n",
    "IPython.notebook.session.delete();\n",
    "window.onbeforeunload = null\n",
    "setTimeout(function() { window.close(); }, 1000);"
   ]
  }
 ],
 "metadata": {
  "coursera": {
   "course_slug": "introduction-tensorflow",
   "graded_item_id": "ml06H",
   "launcher_item_id": "hQF8A"
  },
  "kernelspec": {
   "display_name": "Python 3",
   "language": "python",
   "name": "python3"
  },
  "language_info": {
   "codemirror_mode": {
    "name": "ipython",
    "version": 3
   },
   "file_extension": ".py",
   "mimetype": "text/x-python",
   "name": "python",
   "nbconvert_exporter": "python",
   "pygments_lexer": "ipython3",
   "version": "3.6.8"
  }
 },
 "nbformat": 4,
 "nbformat_minor": 1
}
